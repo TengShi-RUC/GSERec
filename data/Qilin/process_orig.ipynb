{
 "cells": [
  {
   "cell_type": "code",
   "execution_count": null,
   "metadata": {},
   "outputs": [],
   "source": [
    "import os\n",
    "\n",
    "import pandas as pd\n",
    "from pandas import read_parquet\n",
    "from tqdm import tqdm\n",
    "\n",
    "from IPython.core.interactiveshell import InteractiveShell\n",
    "\n",
    "InteractiveShell.ast_node_interactivity = 'all'"
   ]
  },
  {
   "cell_type": "code",
   "execution_count": null,
   "metadata": {},
   "outputs": [],
   "source": [
    "base_path = \"..\""
   ]
  },
  {
   "cell_type": "markdown",
   "metadata": {
    "tags": []
   },
   "source": [
    "## Rec data"
   ]
  },
  {
   "cell_type": "code",
   "execution_count": null,
   "metadata": {},
   "outputs": [],
   "source": [
    "rec_train_session = read_parquet(f\"{base_path}/orig_data/recommendation_train/train-00000-of-00001.parquet\")\n",
    "rec_train_session.head()\n",
    "rec_train_session.shape"
   ]
  },
  {
   "cell_type": "code",
   "execution_count": null,
   "metadata": {},
   "outputs": [],
   "source": [
    "rec_train_session['request_idx'].value_counts()"
   ]
  },
  {
   "cell_type": "code",
   "execution_count": null,
   "metadata": {},
   "outputs": [],
   "source": [
    "rec_train_session['rec_result_details_with_idx'].iloc[0]"
   ]
  },
  {
   "cell_type": "code",
   "execution_count": null,
   "metadata": {},
   "outputs": [],
   "source": [
    "rec_train_data = []\n",
    "\n",
    "for idx, row in tqdm(rec_train_session.iterrows()):\n",
    "    for rec_result in row['rec_result_details_with_idx']:\n",
    "        rec_train_data.append({\n",
    "            'user_idx': row['user_idx'],\n",
    "            'request_idx': row['request_idx'],\n",
    "            'session_idx': row['session_idx'],\n",
    "            'note_idx': rec_result['note_idx'],\n",
    "            'click': rec_result['click'],\n",
    "            'request_timestamp': rec_result['request_timestamp']\n",
    "        })\n",
    "\n",
    "rec_train = pd.DataFrame(rec_train_data)\n",
    "rec_train.head(1)\n",
    "rec_train.shape"
   ]
  },
  {
   "cell_type": "code",
   "execution_count": null,
   "metadata": {},
   "outputs": [],
   "source": [
    "rec_test_session = read_parquet(f\"{base_path}/orig_data/recommendation_test/train-00000-of-00001.parquet\")\n",
    "rec_test_session.head()\n",
    "rec_test_session.shape"
   ]
  },
  {
   "cell_type": "code",
   "execution_count": null,
   "metadata": {},
   "outputs": [],
   "source": [
    "rec_test_data = []\n",
    "\n",
    "for idx, row in tqdm(rec_test_session.iterrows()):\n",
    "    for rec_result in row['rec_result_details_with_idx']:\n",
    "        rec_test_data.append({\n",
    "            'user_idx': row['user_idx'],\n",
    "            'request_idx': row['request_idx'],\n",
    "            'session_idx': row['session_idx'],\n",
    "            'note_idx': rec_result['note_idx'],\n",
    "            'click': rec_result['click'],\n",
    "            'request_timestamp': rec_result['request_timestamp']\n",
    "        })\n",
    "\n",
    "rec_test = pd.DataFrame(rec_test_data)\n",
    "rec_test.head(1)\n",
    "rec_test.shape"
   ]
  },
  {
   "cell_type": "code",
   "execution_count": null,
   "metadata": {},
   "outputs": [],
   "source": [
    "rec_train['orig_train'] = 1\n",
    "rec_test['orig_train'] = 0\n",
    "\n",
    "rec_data = pd.concat([rec_train, rec_test],axis=0)\n",
    "rec_data = rec_data.sort_values(by=['user_idx','request_timestamp']).reset_index(drop=True)\n",
    "rec_data = rec_data.rename(columns={'user_idx': 'user_id', 'note_idx': 'item_id', 'request_timestamp':'timestamp',\n",
    "                                    'request_idx':'request_id','session_idx':'session_id'})\n",
    "rec_data.head(1)\n",
    "rec_data.shape"
   ]
  },
  {
   "cell_type": "code",
   "execution_count": null,
   "metadata": {},
   "outputs": [],
   "source": [
    "rec_data['session_id'].value_counts()"
   ]
  },
  {
   "cell_type": "code",
   "execution_count": null,
   "metadata": {},
   "outputs": [],
   "source": [
    "rec_data[rec_data['session_id']==58710]"
   ]
  },
  {
   "cell_type": "code",
   "execution_count": null,
   "metadata": {},
   "outputs": [],
   "source": [
    "rec_data['click'].value_counts()"
   ]
  },
  {
   "cell_type": "code",
   "execution_count": null,
   "metadata": {},
   "outputs": [],
   "source": [
    "rec_data['user_id'].value_counts()"
   ]
  },
  {
   "cell_type": "code",
   "execution_count": null,
   "metadata": {},
   "outputs": [],
   "source": [
    "rec_data = rec_data[rec_data['click']==1].reset_index(drop=True)\n",
    "rec_data.shape"
   ]
  },
  {
   "cell_type": "code",
   "execution_count": null,
   "metadata": {},
   "outputs": [],
   "source": [
    "rec_data.to_pickle(f\"{base_path}/raw_data/rec_inter.pkl\")"
   ]
  },
  {
   "cell_type": "markdown",
   "metadata": {},
   "source": [
    "## Src data"
   ]
  },
  {
   "cell_type": "code",
   "execution_count": null,
   "metadata": {},
   "outputs": [],
   "source": [
    "src_train_session = read_parquet(f\"{base_path}/orig_data/search_train/train-00000-of-00001.parquet\")\n",
    "src_train_session.head()\n",
    "src_train_session.shape"
   ]
  },
  {
   "cell_type": "code",
   "execution_count": null,
   "metadata": {},
   "outputs": [],
   "source": [
    "src_train_session['search_idx'].value_counts()"
   ]
  },
  {
   "cell_type": "code",
   "execution_count": null,
   "metadata": {},
   "outputs": [],
   "source": [
    "src_train_data = []\n",
    "\n",
    "for idx, row in tqdm(src_train_session.iterrows()):\n",
    "    for src_result in row['search_result_details_with_idx']:\n",
    "        src_train_data.append({\n",
    "            'user_idx': row['user_idx'],\n",
    "            'search_idx': row['search_idx'],\n",
    "            'session_idx': row['session_idx'],\n",
    "            'query': row['query'],\n",
    "            'query_from_type': row['query_from_type'],\n",
    "            'note_idx': src_result['note_idx'],\n",
    "            'click': src_result['click'],\n",
    "            'search_timestamp': src_result['search_timestamp']\n",
    "        })\n",
    "\n",
    "src_train = pd.DataFrame(src_train_data)\n",
    "src_train.head(1)\n",
    "src_train.shape"
   ]
  },
  {
   "cell_type": "code",
   "execution_count": null,
   "metadata": {},
   "outputs": [],
   "source": [
    "src_test_session = read_parquet(f\"{base_path}/orig_data/search_test/train-00000-of-00001.parquet\")\n",
    "src_test_session.head()\n",
    "src_test_session.shape"
   ]
  },
  {
   "cell_type": "code",
   "execution_count": null,
   "metadata": {},
   "outputs": [],
   "source": [
    "src_test_session['search_idx'].value_counts()"
   ]
  },
  {
   "cell_type": "code",
   "execution_count": null,
   "metadata": {},
   "outputs": [],
   "source": [
    "src_test_data = []\n",
    "\n",
    "for idx, row in tqdm(src_test_session.iterrows()):\n",
    "    for src_result in row['search_result_details_with_idx']:\n",
    "        src_test_data.append({\n",
    "            'user_idx': row['user_idx'],\n",
    "            'search_idx': row['search_idx'],\n",
    "            'session_idx': row['session_idx'],\n",
    "            'query': row['query'],\n",
    "            'query_from_type': row['query_from_type'],\n",
    "            'note_idx': src_result['note_idx'],\n",
    "            'click': src_result['click'],\n",
    "            'search_timestamp': src_result['search_timestamp']\n",
    "        })\n",
    "\n",
    "src_test = pd.DataFrame(src_test_data)\n",
    "src_test.head(1)\n",
    "src_test.shape"
   ]
  },
  {
   "cell_type": "code",
   "execution_count": null,
   "metadata": {},
   "outputs": [],
   "source": [
    "src_test['search_idx'].value_counts()"
   ]
  },
  {
   "cell_type": "code",
   "execution_count": null,
   "metadata": {},
   "outputs": [],
   "source": [
    "src_test[src_test['search_idx']==56606]"
   ]
  },
  {
   "cell_type": "code",
   "execution_count": null,
   "metadata": {},
   "outputs": [],
   "source": [
    "src_train['orig_train'] = 1\n",
    "src_test['orig_train'] = 0\n",
    "\n",
    "src_data = pd.concat([src_train, src_test],axis=0)\n",
    "src_data = src_data.sort_values(by=['user_idx','search_timestamp']).reset_index(drop=True)\n",
    "src_data = src_data.rename(columns={'user_idx': 'user_id', 'note_idx': 'item_id', \n",
    "                                    'search_timestamp':'timestamp', 'search_idx': 'search_id',\n",
    "                                    'session_idx':'session_id'})\n",
    "src_data.head(1)\n",
    "src_data.shape"
   ]
  },
  {
   "cell_type": "code",
   "execution_count": null,
   "metadata": {},
   "outputs": [],
   "source": [
    "src_data['search_id'].value_counts()"
   ]
  },
  {
   "cell_type": "code",
   "execution_count": null,
   "metadata": {},
   "outputs": [],
   "source": [
    "src_data['query'].value_counts()"
   ]
  },
  {
   "cell_type": "code",
   "execution_count": null,
   "metadata": {},
   "outputs": [],
   "source": [
    "src_data[src_data['search_id'] == 56606]"
   ]
  },
  {
   "cell_type": "markdown",
   "metadata": {},
   "source": [
    "### Process Search Data"
   ]
  },
  {
   "cell_type": "code",
   "execution_count": null,
   "metadata": {},
   "outputs": [],
   "source": [
    "src_inter = src_data.rename(columns={'search_id':'search_session_id'})\n",
    "\n",
    "session_src_inter = src_inter.groupby(by=['user_id', 'search_session_id','query']).agg(\n",
    "    click_list=('click',list),\n",
    "    item_list=(\"item_id\",list),\n",
    "    time_list=(\"timestamp\", list)\n",
    ").reset_index()\n",
    "session_src_inter = session_src_inter.sort_values(by=['user_id','search_session_id']).reset_index(drop=True)\n",
    "session_src_inter.head()\n",
    "session_src_inter.shape"
   ]
  },
  {
   "cell_type": "code",
   "execution_count": null,
   "metadata": {},
   "outputs": [],
   "source": [
    "session_src_inter['search_session_id'].value_counts()"
   ]
  },
  {
   "cell_type": "code",
   "execution_count": null,
   "metadata": {},
   "outputs": [],
   "source": [
    "def filterSessionPositive(row):\n",
    "    click_list = row['click_list']\n",
    "    item_list = row['item_list']\n",
    "    time_list = row['time_list']\n",
    "\n",
    "    assert len(click_list) == len(item_list)\n",
    "    assert len(time_list) == len(item_list)\n",
    "    new_click_list, new_item_list, new_time_list = [], [], []\n",
    "\n",
    "    for i in range(len(click_list)):\n",
    "        if click_list[i]!=0:\n",
    "            new_click_list.append(click_list[i])\n",
    "            new_item_list.append(item_list[i])\n",
    "            new_time_list.append(time_list[i])\n",
    "    \n",
    "    if sum(click_list) == 0:\n",
    "        new_click_list = [0]\n",
    "        new_item_list = [item_list[0]]\n",
    "        new_time_list = [time_list[0]]\n",
    "\n",
    "    return pd.Series({\"user_id\":row['user_id'],\n",
    "                      \"query\": row['query'],\n",
    "                      \"search_session_id\":row['search_session_id'],\n",
    "                      \"click_list\":new_click_list,\n",
    "                      \"item_list\":new_item_list,\n",
    "                      \"time_list\":new_time_list})"
   ]
  },
  {
   "cell_type": "code",
   "execution_count": null,
   "metadata": {},
   "outputs": [],
   "source": [
    "new_session_src_inter_list = []\n",
    "for idx,line in tqdm(session_src_inter.iterrows()):\n",
    "    new_session_src_inter_list.append(filterSessionPositive(line))\n",
    "new_session_src_inter = pd.DataFrame(new_session_src_inter_list)"
   ]
  },
  {
   "cell_type": "code",
   "execution_count": null,
   "metadata": {},
   "outputs": [],
   "source": [
    "new_session_src_inter.head()\n",
    "new_session_src_inter.shape"
   ]
  },
  {
   "cell_type": "code",
   "execution_count": null,
   "metadata": {},
   "outputs": [],
   "source": [
    "new_session_src_inter['num_click'] = new_session_src_inter['click_list'].apply(lambda x:len([i for i in x if i != 0]))\n",
    "new_session_src_inter.head()"
   ]
  },
  {
   "cell_type": "code",
   "execution_count": null,
   "metadata": {},
   "outputs": [],
   "source": [
    "new_session_src_inter['num_click'].value_counts()"
   ]
  },
  {
   "cell_type": "code",
   "execution_count": null,
   "metadata": {},
   "outputs": [],
   "source": [
    "new_src_inter_list = []\n",
    "for _, line in tqdm(new_session_src_inter.iterrows()):\n",
    "    user_id, search_session_id, time_list,\\\n",
    "        click_list, item_list, query = line['user_id'], line['search_session_id'], \\\n",
    "            line['time_list'], line['click_list'], line['item_list'], line['query']\n",
    "    \n",
    "    for i in range(len(item_list)):\n",
    "        new_src_inter_list.append((user_id,search_session_id,query,item_list[i],click_list[i],time_list[i]))\n",
    "\n",
    "new_src_inter = pd.DataFrame(data=new_src_inter_list,\n",
    "                             columns=['user_id','search_session_id','query',\"item_id\",\"click\",\"timestamp\"]\n",
    "                            )\n",
    "new_src_inter.head()\n",
    "new_src_inter.shape"
   ]
  },
  {
   "cell_type": "code",
   "execution_count": null,
   "metadata": {},
   "outputs": [],
   "source": [
    "src_data = new_src_inter\n",
    "src_data.head()\n",
    "src_data.shape"
   ]
  },
  {
   "cell_type": "code",
   "execution_count": null,
   "metadata": {},
   "outputs": [],
   "source": [
    "src_data.to_pickle(f\"{base_path}/raw_data/src_inter.pkl\")"
   ]
  },
  {
   "cell_type": "markdown",
   "metadata": {},
   "source": [
    "## Item Feat"
   ]
  },
  {
   "cell_type": "code",
   "execution_count": null,
   "metadata": {},
   "outputs": [],
   "source": [
    "note_data_list = []\n",
    "for file in os.listdir(f\"{base_path}/orig_data/notes/\"):\n",
    "    if file.endswith(\".parquet\"):\n",
    "        note_data_list.append(read_parquet(f\"{base_path}/orig_data/notes/\"+file))\n",
    "\n",
    "note_data = pd.concat(note_data_list,axis=0)\n",
    "note_data.head()\n",
    "note_data.shape"
   ]
  },
  {
   "cell_type": "code",
   "execution_count": null,
   "metadata": {},
   "outputs": [],
   "source": [
    "note_data['note_content'].iloc[0]"
   ]
  },
  {
   "cell_type": "code",
   "execution_count": null,
   "metadata": {},
   "outputs": [],
   "source": [
    "def get_note_text(row):\n",
    "    return row['note_title'] + \" \" + row['note_content']\n",
    "\n",
    "note_data['text'] = note_data.apply(get_note_text, axis=1)\n",
    "note_data.head(1)"
   ]
  },
  {
   "cell_type": "code",
   "execution_count": null,
   "metadata": {},
   "outputs": [],
   "source": [
    "note_data = note_data.rename(columns={'note_idx': 'item_id'})\n",
    "note_data.head(1)"
   ]
  },
  {
   "cell_type": "code",
   "execution_count": null,
   "metadata": {},
   "outputs": [],
   "source": [
    "rec_item_set = set(rec_data['item_id'].unique())\n",
    "src_item_set = set(src_data['item_id'].unique())\n",
    "\n",
    "len(rec_item_set)\n",
    "len(src_item_set)\n",
    "len(rec_item_set | src_item_set)\n",
    "len(rec_item_set & src_item_set)"
   ]
  },
  {
   "cell_type": "code",
   "execution_count": null,
   "metadata": {},
   "outputs": [],
   "source": [
    "note_data = note_data[note_data['item_id'].isin(rec_item_set | src_item_set)].reset_index(drop=True)\n",
    "note_data.shape"
   ]
  },
  {
   "cell_type": "code",
   "execution_count": null,
   "metadata": {},
   "outputs": [],
   "source": [
    "note_data.to_pickle(f\"{base_path}/raw_data/item_feat.pkl\")"
   ]
  },
  {
   "cell_type": "markdown",
   "metadata": {},
   "source": [
    "## User Feat"
   ]
  },
  {
   "cell_type": "code",
   "execution_count": null,
   "metadata": {},
   "outputs": [],
   "source": [
    "user_feat = read_parquet(f\"{base_path}/orig_data/user_feat/train-00000-of-00001.parquet\")\n",
    "user_feat.head(1)\n",
    "user_feat.shape"
   ]
  },
  {
   "cell_type": "code",
   "execution_count": null,
   "metadata": {},
   "outputs": [],
   "source": [
    "user_feat['dense_feat39'].nunique()"
   ]
  },
  {
   "cell_type": "code",
   "execution_count": null,
   "metadata": {},
   "outputs": [],
   "source": [
    "user_feat.columns"
   ]
  },
  {
   "cell_type": "code",
   "execution_count": null,
   "metadata": {},
   "outputs": [],
   "source": [
    "user_feat = user_feat.rename(columns={'user_idx': 'user_id'})\n",
    "user_feat.head(1)"
   ]
  },
  {
   "cell_type": "code",
   "execution_count": null,
   "metadata": {},
   "outputs": [],
   "source": [
    "rec_user_set = set(rec_data['user_id'].unique())\n",
    "src_user_set = set(src_data['user_id'].unique())\n",
    "\n",
    "len(rec_user_set)\n",
    "len(src_user_set)\n",
    "len(rec_user_set | src_user_set)\n",
    "len(rec_user_set & src_user_set)\n",
    "\n",
    "all_user_set = list(rec_user_set | src_user_set)"
   ]
  },
  {
   "cell_type": "code",
   "execution_count": null,
   "metadata": {},
   "outputs": [],
   "source": [
    "user_feat = user_feat[user_feat['user_id'].isin(all_user_set)].reset_index(drop=True)\n",
    "user_feat.shape"
   ]
  },
  {
   "cell_type": "code",
   "execution_count": null,
   "metadata": {},
   "outputs": [],
   "source": [
    "user_feat.to_pickle(f\"{base_path}/raw_data/user_feat.pkl\")"
   ]
  }
 ],
 "metadata": {
  "kernelspec": {
   "display_name": "Python 3 (ipykernel)",
   "language": "python",
   "name": "python3"
  },
  "language_info": {
   "codemirror_mode": {
    "name": "ipython",
    "version": 3
   },
   "file_extension": ".py",
   "mimetype": "text/x-python",
   "name": "python",
   "nbconvert_exporter": "python",
   "pygments_lexer": "ipython3",
   "version": "3.11.5"
  }
 },
 "nbformat": 4,
 "nbformat_minor": 4
}
